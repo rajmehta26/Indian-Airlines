{
 "cells": [
  {
   "cell_type": "code",
   "execution_count": 1,
   "id": "ca27337a",
   "metadata": {},
   "outputs": [],
   "source": [
    "import pandas as pd\n",
    "import numpy as np"
   ]
  },
  {
   "cell_type": "code",
   "execution_count": 2,
   "id": "94e4dbe4",
   "metadata": {},
   "outputs": [],
   "source": [
    "df = pd.read_csv('Indian Airlines.csv')"
   ]
  },
  {
   "cell_type": "code",
   "execution_count": 3,
   "id": "7cf9486a",
   "metadata": {},
   "outputs": [
    {
     "data": {
      "text/plain": [
       "False    300153\n",
       "Name: count, dtype: int64"
      ]
     },
     "execution_count": 3,
     "metadata": {},
     "output_type": "execute_result"
    }
   ],
   "source": [
    "df.duplicated().value_counts()"
   ]
  },
  {
   "cell_type": "code",
   "execution_count": 4,
   "id": "dd33011d",
   "metadata": {},
   "outputs": [
    {
     "data": {
      "text/html": [
       "<span style=\"None\">Connecting to &#x27;duckdb://&#x27;</span>"
      ],
      "text/plain": [
       "Connecting to 'duckdb://'"
      ]
     },
     "metadata": {},
     "output_type": "display_data"
    }
   ],
   "source": [
    "%load_ext sql\n",
    "%sql duckdb://"
   ]
  },
  {
   "cell_type": "markdown",
   "id": "891173f9",
   "metadata": {},
   "source": [
    "### Understanding the dataset"
   ]
  },
  {
   "cell_type": "code",
   "execution_count": 5,
   "id": "473803c1",
   "metadata": {
    "scrolled": true
   },
   "outputs": [
    {
     "name": "stdout",
     "output_type": "stream",
     "text": [
      "Total rows: 300153 \n",
      "Total columns: 12\n"
     ]
    },
    {
     "data": {
      "text/plain": [
       "None"
      ]
     },
     "metadata": {},
     "output_type": "display_data"
    },
    {
     "name": "stdout",
     "output_type": "stream",
     "text": [
      "Total NaN values in dataset: 0\n"
     ]
    },
    {
     "data": {
      "text/plain": [
       "None"
      ]
     },
     "metadata": {},
     "output_type": "display_data"
    },
    {
     "name": "stdout",
     "output_type": "stream",
     "text": [
      "The dataset has 0 duplicate rows\n"
     ]
    },
    {
     "data": {
      "text/plain": [
       "None"
      ]
     },
     "metadata": {},
     "output_type": "display_data"
    },
    {
     "name": "stdout",
     "output_type": "stream",
     "text": [
      "<class 'pandas.core.frame.DataFrame'>\n",
      "RangeIndex: 300153 entries, 0 to 300152\n",
      "Data columns (total 12 columns):\n",
      " #   Column            Non-Null Count   Dtype  \n",
      "---  ------            --------------   -----  \n",
      " 0   Unnamed: 0        300153 non-null  int64  \n",
      " 1   airline           300153 non-null  object \n",
      " 2   flight            300153 non-null  object \n",
      " 3   source_city       300153 non-null  object \n",
      " 4   departure_time    300153 non-null  object \n",
      " 5   stops             300153 non-null  object \n",
      " 6   arrival_time      300153 non-null  object \n",
      " 7   destination_city  300153 non-null  object \n",
      " 8   class             300153 non-null  object \n",
      " 9   duration          300153 non-null  float64\n",
      " 10  days_left         300153 non-null  int64  \n",
      " 11  price             300153 non-null  int64  \n",
      "dtypes: float64(1), int64(3), object(8)\n",
      "memory usage: 27.5+ MB\n"
     ]
    },
    {
     "data": {
      "text/plain": [
       "None"
      ]
     },
     "metadata": {},
     "output_type": "display_data"
    }
   ],
   "source": [
    "## Total rows & columns\n",
    "display(print(\"Total rows: {} \\nTotal columns: {}\".format(df.shape[0], df.shape[1])))\n",
    "\n",
    "## Count for missing values in the dataset\n",
    "display(print('Total NaN values in dataset: {}'.format(df.isnull().values.sum())))\n",
    "\n",
    "## Drop duplicate rows from the dataset\n",
    "display(print(\"The dataset has {} duplicate rows\".format(len(df) - len(df.drop_duplicates()))))\n",
    "# df.drop_duplicates(inplace=True) - execute this command if there are duplicates\n",
    "\n",
    "## Basic info of the entire dataset\n",
    "display(df.info())"
   ]
  },
  {
   "cell_type": "markdown",
   "id": "8357be65",
   "metadata": {},
   "source": [
    "##### --------------------------------------------------------------------------------------------------------------------------\n",
    "Conculsion: \n",
    "1. The dataset has no NaN / empty / null / None values\n",
    "2. Dataset has total 300,153 rows & 12 columns\n",
    "3. Dataset has 0 duplicates\n"
   ]
  },
  {
   "cell_type": "markdown",
   "id": "17289349",
   "metadata": {},
   "source": [
    "### Drop Unnecessary columns (optional)"
   ]
  },
  {
   "cell_type": "code",
   "execution_count": 6,
   "id": "aadb39ee",
   "metadata": {},
   "outputs": [
    {
     "data": {
      "text/html": [
       "<div>\n",
       "<style scoped>\n",
       "    .dataframe tbody tr th:only-of-type {\n",
       "        vertical-align: middle;\n",
       "    }\n",
       "\n",
       "    .dataframe tbody tr th {\n",
       "        vertical-align: top;\n",
       "    }\n",
       "\n",
       "    .dataframe thead th {\n",
       "        text-align: right;\n",
       "    }\n",
       "</style>\n",
       "<table border=\"1\" class=\"dataframe\">\n",
       "  <thead>\n",
       "    <tr style=\"text-align: right;\">\n",
       "      <th></th>\n",
       "      <th>airline</th>\n",
       "      <th>source_city</th>\n",
       "      <th>departure_time</th>\n",
       "      <th>stops</th>\n",
       "      <th>arrival_time</th>\n",
       "      <th>destination_city</th>\n",
       "      <th>class</th>\n",
       "      <th>duration</th>\n",
       "      <th>days_left</th>\n",
       "      <th>price</th>\n",
       "    </tr>\n",
       "  </thead>\n",
       "  <tbody>\n",
       "    <tr>\n",
       "      <th>0</th>\n",
       "      <td>SpiceJet</td>\n",
       "      <td>Delhi</td>\n",
       "      <td>Evening</td>\n",
       "      <td>zero</td>\n",
       "      <td>Night</td>\n",
       "      <td>Mumbai</td>\n",
       "      <td>Economy</td>\n",
       "      <td>2.17</td>\n",
       "      <td>1</td>\n",
       "      <td>5953</td>\n",
       "    </tr>\n",
       "    <tr>\n",
       "      <th>1</th>\n",
       "      <td>SpiceJet</td>\n",
       "      <td>Delhi</td>\n",
       "      <td>Early_Morning</td>\n",
       "      <td>zero</td>\n",
       "      <td>Morning</td>\n",
       "      <td>Mumbai</td>\n",
       "      <td>Economy</td>\n",
       "      <td>2.33</td>\n",
       "      <td>1</td>\n",
       "      <td>5953</td>\n",
       "    </tr>\n",
       "    <tr>\n",
       "      <th>2</th>\n",
       "      <td>AirAsia</td>\n",
       "      <td>Delhi</td>\n",
       "      <td>Early_Morning</td>\n",
       "      <td>zero</td>\n",
       "      <td>Early_Morning</td>\n",
       "      <td>Mumbai</td>\n",
       "      <td>Economy</td>\n",
       "      <td>2.17</td>\n",
       "      <td>1</td>\n",
       "      <td>5956</td>\n",
       "    </tr>\n",
       "    <tr>\n",
       "      <th>3</th>\n",
       "      <td>Vistara</td>\n",
       "      <td>Delhi</td>\n",
       "      <td>Morning</td>\n",
       "      <td>zero</td>\n",
       "      <td>Afternoon</td>\n",
       "      <td>Mumbai</td>\n",
       "      <td>Economy</td>\n",
       "      <td>2.25</td>\n",
       "      <td>1</td>\n",
       "      <td>5955</td>\n",
       "    </tr>\n",
       "    <tr>\n",
       "      <th>4</th>\n",
       "      <td>Vistara</td>\n",
       "      <td>Delhi</td>\n",
       "      <td>Morning</td>\n",
       "      <td>zero</td>\n",
       "      <td>Morning</td>\n",
       "      <td>Mumbai</td>\n",
       "      <td>Economy</td>\n",
       "      <td>2.33</td>\n",
       "      <td>1</td>\n",
       "      <td>5955</td>\n",
       "    </tr>\n",
       "  </tbody>\n",
       "</table>\n",
       "</div>"
      ],
      "text/plain": [
       "    airline source_city departure_time stops   arrival_time destination_city  \\\n",
       "0  SpiceJet       Delhi        Evening  zero          Night           Mumbai   \n",
       "1  SpiceJet       Delhi  Early_Morning  zero        Morning           Mumbai   \n",
       "2   AirAsia       Delhi  Early_Morning  zero  Early_Morning           Mumbai   \n",
       "3   Vistara       Delhi        Morning  zero      Afternoon           Mumbai   \n",
       "4   Vistara       Delhi        Morning  zero        Morning           Mumbai   \n",
       "\n",
       "     class  duration  days_left  price  \n",
       "0  Economy      2.17          1   5953  \n",
       "1  Economy      2.33          1   5953  \n",
       "2  Economy      2.17          1   5956  \n",
       "3  Economy      2.25          1   5955  \n",
       "4  Economy      2.33          1   5955  "
      ]
     },
     "execution_count": 6,
     "metadata": {},
     "output_type": "execute_result"
    }
   ],
   "source": [
    "## Drop multiple columns ('Unnamed: 0', 'flight') that are not required\n",
    "drop_cols = [0,2]\n",
    "\n",
    "df.drop(df.columns[drop_cols], axis = 1, inplace = True)\n",
    "\n",
    "df.head()"
   ]
  },
  {
   "cell_type": "code",
   "execution_count": 7,
   "id": "d23238f0",
   "metadata": {},
   "outputs": [
    {
     "data": {
      "text/html": [
       "<span style=\"None\">Running query in &#x27;duckdb://&#x27;</span>"
      ],
      "text/plain": [
       "Running query in 'duckdb://'"
      ]
     },
     "metadata": {},
     "output_type": "display_data"
    },
    {
     "data": {
      "text/html": [
       "<table>\n",
       "    <thead>\n",
       "        <tr>\n",
       "            <th>airline</th>\n",
       "            <th>source_city</th>\n",
       "            <th>departure_time</th>\n",
       "            <th>stops</th>\n",
       "            <th>arrival_time</th>\n",
       "            <th>destination_city</th>\n",
       "            <th>class</th>\n",
       "            <th>duration</th>\n",
       "            <th>days_left</th>\n",
       "            <th>price</th>\n",
       "        </tr>\n",
       "    </thead>\n",
       "    <tbody>\n",
       "        <tr>\n",
       "            <td>SpiceJet</td>\n",
       "            <td>Delhi</td>\n",
       "            <td>Evening</td>\n",
       "            <td>zero</td>\n",
       "            <td>Night</td>\n",
       "            <td>Mumbai</td>\n",
       "            <td>Economy</td>\n",
       "            <td>2.17</td>\n",
       "            <td>1</td>\n",
       "            <td>5953</td>\n",
       "        </tr>\n",
       "        <tr>\n",
       "            <td>SpiceJet</td>\n",
       "            <td>Delhi</td>\n",
       "            <td>Early_Morning</td>\n",
       "            <td>zero</td>\n",
       "            <td>Morning</td>\n",
       "            <td>Mumbai</td>\n",
       "            <td>Economy</td>\n",
       "            <td>2.33</td>\n",
       "            <td>1</td>\n",
       "            <td>5953</td>\n",
       "        </tr>\n",
       "        <tr>\n",
       "            <td>AirAsia</td>\n",
       "            <td>Delhi</td>\n",
       "            <td>Early_Morning</td>\n",
       "            <td>zero</td>\n",
       "            <td>Early_Morning</td>\n",
       "            <td>Mumbai</td>\n",
       "            <td>Economy</td>\n",
       "            <td>2.17</td>\n",
       "            <td>1</td>\n",
       "            <td>5956</td>\n",
       "        </tr>\n",
       "        <tr>\n",
       "            <td>Vistara</td>\n",
       "            <td>Delhi</td>\n",
       "            <td>Morning</td>\n",
       "            <td>zero</td>\n",
       "            <td>Afternoon</td>\n",
       "            <td>Mumbai</td>\n",
       "            <td>Economy</td>\n",
       "            <td>2.25</td>\n",
       "            <td>1</td>\n",
       "            <td>5955</td>\n",
       "        </tr>\n",
       "        <tr>\n",
       "            <td>Vistara</td>\n",
       "            <td>Delhi</td>\n",
       "            <td>Morning</td>\n",
       "            <td>zero</td>\n",
       "            <td>Morning</td>\n",
       "            <td>Mumbai</td>\n",
       "            <td>Economy</td>\n",
       "            <td>2.33</td>\n",
       "            <td>1</td>\n",
       "            <td>5955</td>\n",
       "        </tr>\n",
       "        <tr>\n",
       "            <td>Vistara</td>\n",
       "            <td>Delhi</td>\n",
       "            <td>Morning</td>\n",
       "            <td>zero</td>\n",
       "            <td>Afternoon</td>\n",
       "            <td>Mumbai</td>\n",
       "            <td>Economy</td>\n",
       "            <td>2.33</td>\n",
       "            <td>1</td>\n",
       "            <td>5955</td>\n",
       "        </tr>\n",
       "        <tr>\n",
       "            <td>Vistara</td>\n",
       "            <td>Delhi</td>\n",
       "            <td>Morning</td>\n",
       "            <td>zero</td>\n",
       "            <td>Morning</td>\n",
       "            <td>Mumbai</td>\n",
       "            <td>Economy</td>\n",
       "            <td>2.08</td>\n",
       "            <td>1</td>\n",
       "            <td>6060</td>\n",
       "        </tr>\n",
       "        <tr>\n",
       "            <td>Vistara</td>\n",
       "            <td>Delhi</td>\n",
       "            <td>Afternoon</td>\n",
       "            <td>zero</td>\n",
       "            <td>Evening</td>\n",
       "            <td>Mumbai</td>\n",
       "            <td>Economy</td>\n",
       "            <td>2.17</td>\n",
       "            <td>1</td>\n",
       "            <td>6060</td>\n",
       "        </tr>\n",
       "        <tr>\n",
       "            <td>GO_FIRST</td>\n",
       "            <td>Delhi</td>\n",
       "            <td>Early_Morning</td>\n",
       "            <td>zero</td>\n",
       "            <td>Morning</td>\n",
       "            <td>Mumbai</td>\n",
       "            <td>Economy</td>\n",
       "            <td>2.17</td>\n",
       "            <td>1</td>\n",
       "            <td>5954</td>\n",
       "        </tr>\n",
       "        <tr>\n",
       "            <td>GO_FIRST</td>\n",
       "            <td>Delhi</td>\n",
       "            <td>Afternoon</td>\n",
       "            <td>zero</td>\n",
       "            <td>Evening</td>\n",
       "            <td>Mumbai</td>\n",
       "            <td>Economy</td>\n",
       "            <td>2.25</td>\n",
       "            <td>1</td>\n",
       "            <td>5954</td>\n",
       "        </tr>\n",
       "    </tbody>\n",
       "</table>\n",
       "<span style=\"font-style:italic;text-align:center;\">Truncated to <a href=\"https://jupysql.ploomber.io/en/latest/api/configuration.html#displaylimit\">displaylimit</a> of 10.</span>"
      ],
      "text/plain": [
       "+----------+-------------+----------------+-------+---------------+------------------+---------+----------+-----------+-------+\n",
       "| airline  | source_city | departure_time | stops |  arrival_time | destination_city |  class  | duration | days_left | price |\n",
       "+----------+-------------+----------------+-------+---------------+------------------+---------+----------+-----------+-------+\n",
       "| SpiceJet |    Delhi    |    Evening     |  zero |     Night     |      Mumbai      | Economy |   2.17   |     1     |  5953 |\n",
       "| SpiceJet |    Delhi    | Early_Morning  |  zero |    Morning    |      Mumbai      | Economy |   2.33   |     1     |  5953 |\n",
       "| AirAsia  |    Delhi    | Early_Morning  |  zero | Early_Morning |      Mumbai      | Economy |   2.17   |     1     |  5956 |\n",
       "| Vistara  |    Delhi    |    Morning     |  zero |   Afternoon   |      Mumbai      | Economy |   2.25   |     1     |  5955 |\n",
       "| Vistara  |    Delhi    |    Morning     |  zero |    Morning    |      Mumbai      | Economy |   2.33   |     1     |  5955 |\n",
       "| Vistara  |    Delhi    |    Morning     |  zero |   Afternoon   |      Mumbai      | Economy |   2.33   |     1     |  5955 |\n",
       "| Vistara  |    Delhi    |    Morning     |  zero |    Morning    |      Mumbai      | Economy |   2.08   |     1     |  6060 |\n",
       "| Vistara  |    Delhi    |   Afternoon    |  zero |    Evening    |      Mumbai      | Economy |   2.17   |     1     |  6060 |\n",
       "| GO_FIRST |    Delhi    | Early_Morning  |  zero |    Morning    |      Mumbai      | Economy |   2.17   |     1     |  5954 |\n",
       "| GO_FIRST |    Delhi    |   Afternoon    |  zero |    Evening    |      Mumbai      | Economy |   2.25   |     1     |  5954 |\n",
       "+----------+-------------+----------------+-------+---------------+------------------+---------+----------+-----------+-------+\n",
       "Truncated to displaylimit of 10."
      ]
     },
     "execution_count": 7,
     "metadata": {},
     "output_type": "execute_result"
    }
   ],
   "source": [
    "%%sql\n",
    "SELECT \n",
    "* \n",
    "From df"
   ]
  }
 ],
 "metadata": {
  "kernelspec": {
   "display_name": "Python 3 (ipykernel)",
   "language": "python",
   "name": "python3"
  },
  "language_info": {
   "codemirror_mode": {
    "name": "ipython",
    "version": 3
   },
   "file_extension": ".py",
   "mimetype": "text/x-python",
   "name": "python",
   "nbconvert_exporter": "python",
   "pygments_lexer": "ipython3",
   "version": "3.11.5"
  }
 },
 "nbformat": 4,
 "nbformat_minor": 5
}
